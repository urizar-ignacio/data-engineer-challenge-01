{
 "cells": [
  {
   "cell_type": "markdown",
   "metadata": {},
   "source": [
    "En este archivo puedes escribir lo que estimes conveniente. Te recomendamos detallar tu solución y todas las suposiciones que estás considerando. Aquí puedes ejecutar las funciones que definiste en los otros archivos de la carpeta src, medir el tiempo, memoria, etc."
   ]
  },
  {
   "cell_type": "code",
   "execution_count": 1,
   "metadata": {},
   "outputs": [],
   "source": [
    "file_path = \"farmers-protest-tweets-2021-2-4.json\""
   ]
  },
  {
   "cell_type": "code",
   "execution_count": 2,
   "metadata": {},
   "outputs": [],
   "source": [
    "from q1_memory import q1_memory"
   ]
  },
  {
   "cell_type": "code",
   "execution_count": 3,
   "metadata": {},
   "outputs": [
    {
     "name": "stdout",
     "output_type": "stream",
     "text": [
      "[(datetime.date(2021, 2, 12), 'RanbirS00614606'), (datetime.date(2021, 2, 13), 'MaanDee08215437'), (datetime.date(2021, 2, 17), 'RaaJVinderkaur'), (datetime.date(2021, 2, 16), 'jot__b'), (datetime.date(2021, 2, 14), 'rebelpacifist'), (datetime.date(2021, 2, 18), 'neetuanjle_nitu'), (datetime.date(2021, 2, 15), 'jot__b'), (datetime.date(2021, 2, 20), 'MangalJ23056160'), (datetime.date(2021, 2, 23), 'Surrypuria'), (datetime.date(2021, 2, 19), 'Preetm91')]\n"
     ]
    }
   ],
   "source": [
    "print(q1_memory(file_path))"
   ]
  },
  {
   "cell_type": "code",
   "execution_count": 4,
   "metadata": {},
   "outputs": [
    {
     "name": "stdout",
     "output_type": "stream",
     "text": [
      "The memory_profiler extension is already loaded. To reload it, use:\n",
      "  %reload_ext memory_profiler\n"
     ]
    }
   ],
   "source": [
    "%load_ext memory_profiler"
   ]
  },
  {
   "cell_type": "code",
   "execution_count": 5,
   "metadata": {},
   "outputs": [
    {
     "name": "stdout",
     "output_type": "stream",
     "text": [
      "\n"
     ]
    },
    {
     "data": {
      "text/plain": [
       "Filename: /app/src/q1_memory.py\n",
       "\n",
       "Line #    Mem usage    Increment  Occurrences   Line Contents\n",
       "=============================================================\n",
       "     6    109.4 MiB    109.4 MiB           1   def q1_memory(file_path: str) -> List[Tuple[datetime.date, str]]:\n",
       "     7    109.4 MiB      0.0 MiB           1       records = []\n",
       "     8   1156.7 MiB      0.0 MiB           2       with open(f\"/app/data/{file_path}\") as jfile:\n",
       "     9   1156.7 MiB     96.1 MiB      117408           for line in jfile:\n",
       "    10   1156.7 MiB    951.1 MiB      117407               records.append(json.loads(line))\n",
       "    11   1186.5 MiB     29.9 MiB      117410       clean_records = [{\"date\": x[\"date\"][:10], \"username\": x[\"user\"][\"username\"]} for x in records]\n",
       "    12   1189.2 MiB      2.6 MiB      234815       ordered_records = sorted(clean_records, key=lambda x: x[\"date\"])\n",
       "    13   1189.2 MiB      0.0 MiB      234830       count_by_date = [(k, len(list(g))) for k, g in (groupby(ordered_records, lambda x: x[\"date\"]))]\n",
       "    14   1189.2 MiB      0.0 MiB          27       top_count_by_day = sorted(count_by_date, key=lambda x: x[1], reverse=True)[:10]\n",
       "    15                                         \n",
       "    16   1203.0 MiB     13.9 MiB      348771       count_by_date_and_user = [(k, len(list(g))) for k, g in (groupby(ordered_records, lambda x: (x[\"date\"],x[\"username\"])))]\n",
       "    17                                         \n",
       "    18   1203.0 MiB      0.0 MiB           1       results = []\n",
       "    19   1203.2 MiB      0.0 MiB          11       for top_date in top_count_by_day:\n",
       "    20   1203.2 MiB      0.0 MiB     2279090           filter_group = filter(lambda x: x[0][0] == top_date[0], count_by_date_and_user)\n",
       "    21   1203.2 MiB      0.0 MiB      193124           username = max(filter_group, key=lambda x: x[1])[0][1]\n",
       "    22   1203.2 MiB      0.1 MiB          10           results.append((datetime.strptime(top_date[0], '%Y-%m-%d').date(), username))\n",
       "    23                                         \n",
       "    24   1203.2 MiB      0.0 MiB           1       return results"
      ]
     },
     "metadata": {},
     "output_type": "display_data"
    }
   ],
   "source": [
    "%mprun -f q1_memory q1_memory(file_path)"
   ]
  },
  {
   "cell_type": "code",
   "execution_count": 7,
   "metadata": {},
   "outputs": [
    {
     "name": "stdout",
     "output_type": "stream",
     "text": [
      "CPU times: user 5.06 s, sys: 859 ms, total: 5.92 s\n",
      "Wall time: 5.92 s\n"
     ]
    },
    {
     "data": {
      "text/plain": [
       "[(datetime.date(2021, 2, 12), 'boycott_twiter'),\n",
       " (datetime.date(2021, 2, 13), 'Preetm91'),\n",
       " (datetime.date(2021, 2, 17), 'Monica_Gill1'),\n",
       " (datetime.date(2021, 2, 16), 'Monica_Gill1'),\n",
       " (datetime.date(2021, 2, 14), 'GurmVicky'),\n",
       " (datetime.date(2021, 2, 18), 'c9DQOwxxVsxUnIX'),\n",
       " (datetime.date(2021, 2, 15), 'bishnoimukesh_'),\n",
       " (datetime.date(2021, 2, 20), 'kpreet11'),\n",
       " (datetime.date(2021, 2, 23), 'Preetm91'),\n",
       " (datetime.date(2021, 2, 19), 'Preetm91')]"
      ]
     },
     "execution_count": 7,
     "metadata": {},
     "output_type": "execute_result"
    }
   ],
   "source": [
    "%time q1_memory(file_path)"
   ]
  },
  {
   "cell_type": "code",
   "execution_count": 8,
   "metadata": {},
   "outputs": [
    {
     "name": "stdout",
     "output_type": "stream",
     "text": [
      "         3093602 function calls in 6.107 seconds\n",
      "\n",
      "   Ordered by: standard name\n",
      "\n",
      "   ncalls  tottime  percall  cumtime  percall filename:lineno(function)\n",
      "        1    0.000    0.000    0.000    0.000 <frozen codecs>:260(__init__)\n",
      "        1    0.000    0.000    0.000    0.000 <frozen codecs>:309(__init__)\n",
      "    49772    0.042    0.000    0.096    0.000 <frozen codecs>:319(decode)\n",
      "        1    0.218    0.218    6.106    6.106 <string>:1(<module>)\n",
      "   117407    0.106    0.000    4.419    0.000 __init__.py:299(loads)\n",
      "       10    0.000    0.000    0.000    0.000 _strptime.py:26(_getlang)\n",
      "       10    0.000    0.000    0.001    0.000 _strptime.py:309(_strptime)\n",
      "       10    0.000    0.000    0.001    0.000 _strptime.py:565(_strptime_datetime)\n",
      "   117407    0.175    0.000    4.275    0.000 decoder.py:332(decode)\n",
      "   117407    3.976    0.000    3.976    0.000 decoder.py:343(raw_decode)\n",
      "       10    0.000    0.000    0.000    0.000 locale.py:396(normalize)\n",
      "       10    0.000    0.000    0.000    0.000 locale.py:479(_parse_localename)\n",
      "       10    0.000    0.000    0.000    0.000 locale.py:593(getlocale)\n",
      "        1    0.127    0.127    0.127    0.127 q1_memory.py:11(<listcomp>)\n",
      "   117407    0.012    0.000    0.012    0.000 q1_memory.py:12(<lambda>)\n",
      "   117407    0.012    0.000    0.012    0.000 q1_memory.py:13(<lambda>)\n",
      "        1    0.017    0.017    0.029    0.029 q1_memory.py:13(<listcomp>)\n",
      "       13    0.000    0.000    0.000    0.000 q1_memory.py:14(<lambda>)\n",
      "   117407    0.026    0.000    0.026    0.000 q1_memory.py:16(<lambda>)\n",
      "        1    0.077    0.077    0.110    0.110 q1_memory.py:16(<listcomp>)\n",
      "  1139540    0.193    0.000    0.193    0.000 q1_memory.py:20(<lambda>)\n",
      "    96557    0.010    0.000    0.010    0.000 q1_memory.py:21(<lambda>)\n",
      "        1    0.668    0.668    5.888    5.888 q1_memory.py:6(q1_memory)\n",
      "    49772    0.054    0.000    0.054    0.000 {built-in method _codecs.utf_8_decode}\n",
      "       10    0.000    0.000    0.000    0.000 {built-in method _locale.setlocale}\n",
      "        1    0.000    0.000    6.107    6.107 {built-in method builtins.exec}\n",
      "   117427    0.012    0.000    0.012    0.000 {built-in method builtins.isinstance}\n",
      "   231394    0.021    0.000    0.021    0.000 {built-in method builtins.len}\n",
      "       10    0.160    0.016    0.363    0.036 {built-in method builtins.max}\n",
      "        2    0.018    0.009    0.030    0.015 {built-in method builtins.sorted}\n",
      "        1    0.029    0.029    0.029    0.029 {built-in method io.open}\n",
      "       10    0.000    0.000    0.001    0.000 {built-in method strptime}\n",
      "        1    0.000    0.000    0.000    0.000 {method '__exit__' of '_io._IOBase' objects}\n",
      "       10    0.000    0.000    0.000    0.000 {method '__exit__' of '_thread.lock' objects}\n",
      "   117417    0.014    0.000    0.014    0.000 {method 'append' of 'list' objects}\n",
      "       10    0.000    0.000    0.000    0.000 {method 'date' of 'datetime.datetime' objects}\n",
      "        1    0.000    0.000    0.000    0.000 {method 'disable' of '_lsprof.Profiler' objects}\n",
      "   234824    0.024    0.000    0.024    0.000 {method 'end' of 're.Match' objects}\n",
      "       30    0.000    0.000    0.000    0.000 {method 'get' of 'dict' objects}\n",
      "       10    0.000    0.000    0.000    0.000 {method 'groupdict' of 're.Match' objects}\n",
      "       10    0.000    0.000    0.000    0.000 {method 'keys' of 'dict' objects}\n",
      "       10    0.000    0.000    0.000    0.000 {method 'lower' of 'str' objects}\n",
      "   234824    0.086    0.000    0.086    0.000 {method 'match' of 're.Pattern' objects}\n",
      "   117407    0.027    0.000    0.027    0.000 {method 'startswith' of 'str' objects}\n",
      "       20    0.000    0.000    0.000    0.000 {method 'toordinal' of 'datetime.date' objects}\n",
      "       10    0.000    0.000    0.000    0.000 {method 'weekday' of 'datetime.date' objects}\n",
      "\n",
      "\n"
     ]
    }
   ],
   "source": [
    "import cProfile\n",
    "cProfile.run('q1_memory(file_path)')"
   ]
  },
  {
   "cell_type": "code",
   "execution_count": 1,
   "metadata": {},
   "outputs": [],
   "source": [
    "from q1_memory import q1_memory"
   ]
  },
  {
   "cell_type": "code",
   "execution_count": 12,
   "metadata": {},
   "outputs": [
    {
     "name": "stdout",
     "output_type": "stream",
     "text": [
      "\n"
     ]
    },
    {
     "data": {
      "text/plain": [
       "Filename: /app/src/q1_memory.py\n",
       "\n",
       "Line #    Mem usage    Increment  Occurrences   Line Contents\n",
       "=============================================================\n",
       "     5    109.6 MiB    109.6 MiB           1   def q1_memory(file_path: str) -> List[Tuple[datetime.date, str]]:\n",
       "     6    109.6 MiB      0.0 MiB           1       records = []\n",
       "     7   1156.5 MiB      0.0 MiB           2       with open(f\"/app/data/{file_path}\") as jfile:\n",
       "     8   1156.5 MiB    100.2 MiB      117408           for line in jfile:\n",
       "     9   1156.5 MiB    946.6 MiB      117407               records.append(json.loads(line))\n",
       "    10   1156.5 MiB      0.0 MiB           1       return 1"
      ]
     },
     "metadata": {},
     "output_type": "display_data"
    }
   ],
   "source": [
    "%mprun -f q1_memory q1_memory(file_path)"
   ]
  },
  {
   "cell_type": "code",
   "execution_count": 6,
   "metadata": {},
   "outputs": [
    {
     "name": "stdout",
     "output_type": "stream",
     "text": [
      "\n"
     ]
    },
    {
     "data": {
      "text/plain": [
       "Filename: /app/src/q1_memory.py\n",
       "\n",
       "Line #    Mem usage    Increment  Occurrences   Line Contents\n",
       "=============================================================\n",
       "     5    100.4 MiB    100.4 MiB           1   def q1_memory(file_path: str) -> List[Tuple[datetime.date, str]]:\n",
       "     6    100.4 MiB      0.0 MiB           1       records = []\n",
       "     7    505.3 MiB      0.0 MiB           2       with open(f\"/app/data/{file_path}\") as jfile:\n",
       "     8    505.3 MiB    399.5 MiB      117408           for line in jfile:\n",
       "     9    505.3 MiB      5.4 MiB      117407               records.append(line)\n",
       "    10                                                     #records.append(json.loads(line))\n",
       "    11    505.3 MiB      0.0 MiB           1       return 1"
      ]
     },
     "metadata": {},
     "output_type": "display_data"
    }
   ],
   "source": [
    "%mprun -f q1_memory q1_memory(file_path)"
   ]
  },
  {
   "cell_type": "code",
   "execution_count": 13,
   "metadata": {},
   "outputs": [
    {
     "name": "stdout",
     "output_type": "stream",
     "text": [
      "         1391029 function calls in 5.507 seconds\n",
      "\n",
      "   Ordered by: standard name\n",
      "\n",
      "   ncalls  tottime  percall  cumtime  percall filename:lineno(function)\n",
      "        1    0.000    0.000    0.000    0.000 <frozen codecs>:260(__init__)\n",
      "        1    0.000    0.000    0.000    0.000 <frozen codecs>:309(__init__)\n",
      "    49772    0.040    0.000    0.094    0.000 <frozen codecs>:319(decode)\n",
      "        1    0.291    0.291    5.507    5.507 <string>:1(<module>)\n",
      "   117407    0.105    0.000    4.426    0.000 __init__.py:299(loads)\n",
      "   117407    0.177    0.000    4.282    0.000 decoder.py:332(decode)\n",
      "   117407    3.979    0.000    3.979    0.000 decoder.py:343(raw_decode)\n",
      "        1    0.656    0.656    5.216    5.216 q1_memory.py:5(q1_memory)\n",
      "    49772    0.054    0.000    0.054    0.000 {built-in method _codecs.utf_8_decode}\n",
      "        1    0.000    0.000    5.507    5.507 {built-in method builtins.exec}\n",
      "   117407    0.012    0.000    0.012    0.000 {built-in method builtins.isinstance}\n",
      "   117407    0.015    0.000    0.015    0.000 {built-in method builtins.len}\n",
      "        1    0.025    0.025    0.025    0.025 {built-in method io.open}\n",
      "        1    0.000    0.000    0.000    0.000 {method '__exit__' of '_io._IOBase' objects}\n",
      "   117407    0.014    0.000    0.014    0.000 {method 'append' of 'list' objects}\n",
      "        1    0.000    0.000    0.000    0.000 {method 'disable' of '_lsprof.Profiler' objects}\n",
      "   234814    0.025    0.000    0.025    0.000 {method 'end' of 're.Match' objects}\n",
      "   234814    0.086    0.000    0.086    0.000 {method 'match' of 're.Pattern' objects}\n",
      "   117407    0.027    0.000    0.027    0.000 {method 'startswith' of 'str' objects}\n",
      "\n",
      "\n"
     ]
    }
   ],
   "source": [
    "import cProfile\n",
    "cProfile.run('q1_memory(file_path)')"
   ]
  },
  {
   "cell_type": "code",
   "execution_count": 7,
   "metadata": {},
   "outputs": [
    {
     "name": "stdout",
     "output_type": "stream",
     "text": [
      "         216959 function calls in 0.892 seconds\n",
      "\n",
      "   Ordered by: standard name\n",
      "\n",
      "   ncalls  tottime  percall  cumtime  percall filename:lineno(function)\n",
      "        1    0.000    0.000    0.000    0.000 <frozen codecs>:260(__init__)\n",
      "        1    0.000    0.000    0.000    0.000 <frozen codecs>:309(__init__)\n",
      "    49772    0.030    0.000    0.100    0.000 <frozen codecs>:319(decode)\n",
      "        1    0.014    0.014    0.892    0.892 <string>:1(<module>)\n",
      "        1    0.728    0.728    0.878    0.878 q1_memory.py:5(q1_memory)\n",
      "    49772    0.070    0.000    0.070    0.000 {built-in method _codecs.utf_8_decode}\n",
      "        1    0.000    0.000    0.892    0.892 {built-in method builtins.exec}\n",
      "        1    0.037    0.037    0.037    0.037 {built-in method io.open}\n",
      "        1    0.000    0.000    0.000    0.000 {method '__exit__' of '_io._IOBase' objects}\n",
      "   117407    0.013    0.000    0.013    0.000 {method 'append' of 'list' objects}\n",
      "        1    0.000    0.000    0.000    0.000 {method 'disable' of '_lsprof.Profiler' objects}\n",
      "\n",
      "\n"
     ]
    }
   ],
   "source": [
    "import cProfile\n",
    "cProfile.run('q1_memory(file_path)')"
   ]
  },
  {
   "cell_type": "code",
   "execution_count": 3,
   "metadata": {},
   "outputs": [],
   "source": [
    "records = q1_memory(file_path)"
   ]
  },
  {
   "cell_type": "code",
   "execution_count": 7,
   "metadata": {},
   "outputs": [],
   "source": [
    "clean_records = [{\"date\": x[\"date\"][:10], \"username\": x[\"user\"][\"username\"]} for x in records]"
   ]
  },
  {
   "cell_type": "code",
   "execution_count": 8,
   "metadata": {},
   "outputs": [
    {
     "data": {
      "text/plain": [
       "[{'date': '2021-02-24', 'username': 'ArjunSinghPanam'},\n",
       " {'date': '2021-02-24', 'username': 'PrdeepNain'},\n",
       " {'date': '2021-02-24', 'username': 'parmarmaninder'},\n",
       " {'date': '2021-02-24', 'username': 'anmoldhaliwal'},\n",
       " {'date': '2021-02-24', 'username': 'KotiaPreet'}]"
      ]
     },
     "execution_count": 8,
     "metadata": {},
     "output_type": "execute_result"
    }
   ],
   "source": [
    "clean_records"
   ]
  },
  {
   "cell_type": "code",
   "execution_count": 9,
   "metadata": {},
   "outputs": [],
   "source": [
    "def key_func(x):\n",
    "    return x[\"date\"]"
   ]
  },
  {
   "cell_type": "code",
   "execution_count": 10,
   "metadata": {},
   "outputs": [],
   "source": [
    "from itertools import groupby"
   ]
  },
  {
   "cell_type": "code",
   "execution_count": 17,
   "metadata": {},
   "outputs": [
    {
     "name": "stdout",
     "output_type": "stream",
     "text": [
      "2021-02-24\n",
      "5\n"
     ]
    }
   ],
   "source": [
    "for k, g in (groupby(clean_records, lambda x: x[\"date\"])):\n",
    "    print(k)\n",
    "    print(len(list(g)))"
   ]
  },
  {
   "cell_type": "code",
   "execution_count": 2,
   "metadata": {},
   "outputs": [],
   "source": [
    "from q1_memory import q1_memory\n",
    "records = q1_memory(file_path)"
   ]
  },
  {
   "cell_type": "code",
   "execution_count": 7,
   "metadata": {},
   "outputs": [],
   "source": [
    "top_count_by_day = sorted(records, key=lambda x: x[1], reverse=True)[:10]"
   ]
  },
  {
   "cell_type": "code",
   "execution_count": 4,
   "metadata": {},
   "outputs": [
    {
     "data": {
      "text/plain": [
       "[('2021-02-12', 12347),\n",
       " ('2021-02-13', 11296),\n",
       " ('2021-02-14', 10249),\n",
       " ('2021-02-15', 9197),\n",
       " ('2021-02-16', 10443),\n",
       " ('2021-02-17', 11087),\n",
       " ('2021-02-18', 9625),\n",
       " ('2021-02-19', 8204),\n",
       " ('2021-02-20', 8502),\n",
       " ('2021-02-21', 7532),\n",
       " ('2021-02-22', 7071),\n",
       " ('2021-02-23', 8417),\n",
       " ('2021-02-24', 3437)]"
      ]
     },
     "execution_count": 4,
     "metadata": {},
     "output_type": "execute_result"
    }
   ],
   "source": [
    "records"
   ]
  },
  {
   "cell_type": "code",
   "execution_count": 13,
   "metadata": {},
   "outputs": [],
   "source": [
    "import json\n",
    "from itertools import groupby\n",
    "\n",
    "file_path = \"farmers-protest-tweets-2021-2-4.json\"\n",
    "\n",
    "def q1_test(file_path):\n",
    "    records = []\n",
    "    with open(f\"/app/data/{file_path}\") as jfile:\n",
    "        for line in jfile:\n",
    "            records.append(json.loads(line))\n",
    "    clean_records = [{\"date\": x[\"date\"][:10], \"username\": x[\"user\"][\"username\"]} for x in records]\n",
    "    ordered_records = sorted(clean_records, key=lambda x: x[\"date\"])\n",
    "    count_by_date = [(k, len(list(g))) for k, g in (groupby(ordered_records, lambda x: x[\"date\"]))]\n",
    "    top_count_by_day = sorted(count_by_date, key=lambda x: x[1], reverse=True)[:10]\n",
    "\n",
    "    count_by_date_and_user = [(k, len(list(g))) for k, g in (groupby(ordered_records, lambda x: (x[\"date\"],x[\"username\"])))]\n",
    "\n",
    "    results = []\n",
    "    for top_date in top_count_by_day:\n",
    "        filter_group = filter(lambda x: x[0][0] == top_date[0], count_by_date_and_user)\n",
    "        username = max(filter_group, key=lambda x: x[1])[0][1]\n",
    "        results.append((top_date[0], username))\n",
    "\n",
    "    return results\n",
    "\n",
    "results = q1_test(file_path)\n",
    "        "
   ]
  },
  {
   "cell_type": "code",
   "execution_count": 14,
   "metadata": {},
   "outputs": [
    {
     "data": {
      "text/plain": [
       "[('2021-02-12', 'boycott_twiter'),\n",
       " ('2021-02-13', 'Preetm91'),\n",
       " ('2021-02-17', 'Monica_Gill1'),\n",
       " ('2021-02-16', 'Monica_Gill1'),\n",
       " ('2021-02-14', 'GurmVicky'),\n",
       " ('2021-02-18', 'c9DQOwxxVsxUnIX'),\n",
       " ('2021-02-15', 'bishnoimukesh_'),\n",
       " ('2021-02-20', 'kpreet11'),\n",
       " ('2021-02-23', 'Preetm91'),\n",
       " ('2021-02-19', 'Preetm91')]"
      ]
     },
     "execution_count": 14,
     "metadata": {},
     "output_type": "execute_result"
    }
   ],
   "source": [
    "results"
   ]
  },
  {
   "cell_type": "code",
   "execution_count": 16,
   "metadata": {},
   "outputs": [
    {
     "data": {
      "text/plain": [
       "datetime.date(2014, 12, 4)"
      ]
     },
     "execution_count": 16,
     "metadata": {},
     "output_type": "execute_result"
    }
   ],
   "source": [
    "from datetime import datetime\n",
    "datetime.strptime('2014-12-04', '%Y-%m-%d').date()"
   ]
  },
  {
   "cell_type": "code",
   "execution_count": null,
   "metadata": {},
   "outputs": [],
   "source": []
  }
 ],
 "metadata": {
  "kernelspec": {
   "display_name": "Python 3 (ipykernel)",
   "language": "python",
   "name": "python3"
  },
  "language_info": {
   "codemirror_mode": {
    "name": "ipython",
    "version": 3
   },
   "file_extension": ".py",
   "mimetype": "text/x-python",
   "name": "python",
   "nbconvert_exporter": "python",
   "pygments_lexer": "ipython3",
   "version": "3.11.6"
  }
 },
 "nbformat": 4,
 "nbformat_minor": 4
}
